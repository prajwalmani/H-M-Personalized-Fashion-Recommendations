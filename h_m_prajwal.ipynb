{
 "cells": [
  {
   "cell_type": "code",
   "execution_count": null,
   "id": "a939d081",
   "metadata": {},
   "outputs": [],
   "source": [
    "import pandas as pd\n",
    "import numpy as np\n",
    "from sklearn import preprocessing\n",
    "from sklearn.preprocessing import MinMaxScaler\n",
    "from tensorflow.keras import Sequential\n",
    "from tensorflow.keras.layers import Dense, LSTM, Dropout,TimeDistributed,GRU,SimpleRNN\n",
    "from keras.preprocessing.sequence import TimeseriesGenerator\n",
    "import keras\n",
    "from keras.models import Sequential\n",
    "from keras.layers import Dense\n",
    "import tensorflow as tf"
   ]
  },
  {
   "cell_type": "code",
   "execution_count": null,
   "id": "d16a3ff5",
   "metadata": {},
   "outputs": [],
   "source": [
    "label_cols=[]"
   ]
  },
  {
   "cell_type": "code",
   "execution_count": null,
   "id": "8aa14e60",
   "metadata": {},
   "outputs": [],
   "source": [
    "articles_df=pd.read_csv(r'articles.csv')\n",
    "customers_df=pd.read_csv(r'customers.csv')\n",
    "transcations_df=pd.read_csv(r'transactions_train.csv')"
   ]
  },
  {
   "cell_type": "code",
   "execution_count": null,
   "id": "9c362bf0",
   "metadata": {},
   "outputs": [],
   "source": [
    "articles_df.head()"
   ]
  },
  {
   "cell_type": "code",
   "execution_count": null,
   "id": "cf9cd77b",
   "metadata": {},
   "outputs": [],
   "source": [
    "articles_df.info()"
   ]
  },
  {
   "cell_type": "code",
   "execution_count": null,
   "id": "e05e704d",
   "metadata": {},
   "outputs": [],
   "source": [
    "customers_df.head()"
   ]
  },
  {
   "cell_type": "code",
   "execution_count": null,
   "id": "e8d786ec",
   "metadata": {},
   "outputs": [],
   "source": [
    "customers_df.info()"
   ]
  },
  {
   "cell_type": "code",
   "execution_count": null,
   "id": "d0eef394",
   "metadata": {},
   "outputs": [],
   "source": [
    "transcations_df.head()"
   ]
  },
  {
   "cell_type": "code",
   "execution_count": null,
   "id": "bb1244f8",
   "metadata": {},
   "outputs": [],
   "source": [
    "transcations_df.head()"
   ]
  },
  {
   "cell_type": "code",
   "execution_count": null,
   "id": "2a716b67",
   "metadata": {},
   "outputs": [],
   "source": [
    "def missing_data(func_df):\n",
    "    total=func_df.isnull().sum().sort_values(ascending=False)\n",
    "    percent=(func_df.isnull().sum()/func_df.isnull().count()*100).sort_values(ascending=False)\n",
    "    return pd.concat([total,percent],axis=1,keys=['Total','Percent'])"
   ]
  },
  {
   "cell_type": "code",
   "execution_count": null,
   "id": "41945da1",
   "metadata": {},
   "outputs": [],
   "source": [
    "missing_data(articles_df)"
   ]
  },
  {
   "cell_type": "code",
   "execution_count": null,
   "id": "b000a25e",
   "metadata": {},
   "outputs": [],
   "source": [
    "missing_data(customers_df)"
   ]
  },
  {
   "cell_type": "code",
   "execution_count": null,
   "id": "5c1cb217",
   "metadata": {},
   "outputs": [],
   "source": [
    "missing_data(transcations_df)"
   ]
  },
  {
   "cell_type": "code",
   "execution_count": null,
   "id": "3d4d92ff",
   "metadata": {},
   "outputs": [],
   "source": [
    "def unique_values(func_df):\n",
    "    total=func_df.count()\n",
    "    tt=pd.DataFrame(total)\n",
    "    tt.columns=['Total']\n",
    "    uniques=[]\n",
    "    for col in func_df.columns:\n",
    "        unique=func_df[col].nunique()\n",
    "        uniques.append(unique)\n",
    "    tt['Uniques']=uniques\n",
    "    return tt"
   ]
  },
  {
   "cell_type": "code",
   "execution_count": null,
   "id": "c9c65847",
   "metadata": {},
   "outputs": [],
   "source": [
    "unique_values(articles_df)"
   ]
  },
  {
   "cell_type": "code",
   "execution_count": null,
   "id": "ce968c68",
   "metadata": {},
   "outputs": [],
   "source": [
    "unique_values(customers_df)"
   ]
  },
  {
   "cell_type": "code",
   "execution_count": null,
   "id": "40861eab",
   "metadata": {},
   "outputs": [],
   "source": [
    "unique_values(transcations_df)"
   ]
  },
  {
   "cell_type": "markdown",
   "id": "6385d1a7",
   "metadata": {},
   "source": [
    "### Here i am dropping this columns because it has the column which represents in the number format in simple words to reduce multicollinearity\n",
    "### Eg product_name column has product_name which is same "
   ]
  },
  {
   "cell_type": "code",
   "execution_count": null,
   "id": "10f78614",
   "metadata": {},
   "outputs": [],
   "source": [
    "cols=['prod_name','product_type_name','graphical_appearance_name','colour_group_name','perceived_colour_value_name',\n",
    "      'department_name','index_name','index_group_name','section_name','garment_group_name']\n",
    "articles_df.drop(columns=cols,axis=1,inplace=True)"
   ]
  },
  {
   "cell_type": "code",
   "execution_count": null,
   "id": "71ef7db8",
   "metadata": {},
   "outputs": [],
   "source": [
    "articles_df.head()"
   ]
  },
  {
   "cell_type": "code",
   "execution_count": null,
   "id": "25a700dc",
   "metadata": {},
   "outputs": [],
   "source": [
    "label_encoder = preprocessing.LabelEncoder()\n",
    "cols=['product_group_name','perceived_colour_master_name','index_code']\n",
    "for col in cols:\n",
    "    label_cols.append(col)\n",
    "    articles_df[col]= label_encoder.fit_transform(articles_df[col]) "
   ]
  },
  {
   "cell_type": "markdown",
   "id": "fc4ab85c",
   "metadata": {},
   "source": [
    "### I will be dropping detail_desc column "
   ]
  },
  {
   "cell_type": "code",
   "execution_count": null,
   "id": "958735b6",
   "metadata": {},
   "outputs": [],
   "source": [
    "articles_df.drop(['detail_desc'],axis=1,inplace=True)"
   ]
  },
  {
   "cell_type": "code",
   "execution_count": null,
   "id": "41f7b6e3",
   "metadata": {},
   "outputs": [],
   "source": [
    "articles_df"
   ]
  },
  {
   "cell_type": "code",
   "execution_count": null,
   "id": "7c8a7b82",
   "metadata": {},
   "outputs": [],
   "source": [
    "customers_df.head()"
   ]
  },
  {
   "cell_type": "code",
   "execution_count": null,
   "id": "60d832fa",
   "metadata": {},
   "outputs": [],
   "source": [
    "customers_df.shape"
   ]
  },
  {
   "cell_type": "code",
   "execution_count": null,
   "id": "77937a0a",
   "metadata": {},
   "outputs": [],
   "source": [
    "customers_df['fashion_news_frequency'].value_counts()"
   ]
  },
  {
   "cell_type": "code",
   "execution_count": null,
   "id": "1e1eda52",
   "metadata": {},
   "outputs": [],
   "source": [
    "print(\"The precentage of null value in FN column is {}%\".format(round(((customers_df['FN'].isna().sum()/customers_df.shape[0])*100),2)))\n",
    "print(\"The precentage of null value in Active column is {}%\".format(round(((customers_df['Active'].isna().sum()/customers_df.shape[0])*100),2)))"
   ]
  },
  {
   "cell_type": "markdown",
   "id": "612e47e6",
   "metadata": {},
   "source": [
    "### I am dropping the FN and Active column because it has more than 65 % null values "
   ]
  },
  {
   "cell_type": "code",
   "execution_count": null,
   "id": "d85a7d70",
   "metadata": {},
   "outputs": [],
   "source": [
    "customers_df.drop(['FN','Active'],axis=1,inplace=True)"
   ]
  },
  {
   "cell_type": "code",
   "execution_count": null,
   "id": "9b478cf6",
   "metadata": {},
   "outputs": [],
   "source": [
    "customers_df['club_member_status'].isna().sum()"
   ]
  },
  {
   "cell_type": "code",
   "execution_count": null,
   "id": "6795a488",
   "metadata": {},
   "outputs": [],
   "source": [
    "customers_df['club_member_status'].fillna('ACTIVE',axis=0,inplace=True)"
   ]
  },
  {
   "cell_type": "code",
   "execution_count": null,
   "id": "6c6692e5",
   "metadata": {},
   "outputs": [],
   "source": [
    "customers_df['club_member_status'].isna().sum()"
   ]
  },
  {
   "cell_type": "code",
   "execution_count": null,
   "id": "a55fccde",
   "metadata": {},
   "outputs": [],
   "source": [
    "customers_df['fashion_news_frequency'].replace(to_replace='NONE',value='None',inplace=True)"
   ]
  },
  {
   "cell_type": "code",
   "execution_count": null,
   "id": "3e3d5896",
   "metadata": {},
   "outputs": [],
   "source": [
    "customers_df['fashion_news_frequency'].value_counts()"
   ]
  },
  {
   "cell_type": "code",
   "execution_count": null,
   "id": "4651eca8",
   "metadata": {},
   "outputs": [],
   "source": [
    "customers_df['postal_code'].nunique()"
   ]
  },
  {
   "cell_type": "markdown",
   "id": "b44fef02",
   "metadata": {},
   "source": [
    "### Since we has so many unique values in postal_code so  i will be dropping this column"
   ]
  },
  {
   "cell_type": "code",
   "execution_count": null,
   "id": "082805df",
   "metadata": {},
   "outputs": [],
   "source": [
    "customers_df.drop(['postal_code'],axis=1,inplace=True)"
   ]
  },
  {
   "cell_type": "code",
   "execution_count": null,
   "id": "d7ca5e85",
   "metadata": {},
   "outputs": [],
   "source": [
    "customers_df.dropna(axis=0,inplace=True)"
   ]
  },
  {
   "cell_type": "code",
   "execution_count": null,
   "id": "4bcd5157",
   "metadata": {},
   "outputs": [],
   "source": [
    "label_encoder = preprocessing.LabelEncoder()\n",
    "cols=['club_member_status','fashion_news_frequency']\n",
    "for col in cols:\n",
    "    label_cols.append(col)\n",
    "    customers_df[col]= label_encoder.fit_transform(customers_df[col]) "
   ]
  },
  {
   "cell_type": "code",
   "execution_count": null,
   "id": "83717cc5",
   "metadata": {},
   "outputs": [],
   "source": [
    "customers_df.head()"
   ]
  },
  {
   "cell_type": "code",
   "execution_count": null,
   "id": "0114f0aa",
   "metadata": {},
   "outputs": [],
   "source": [
    "transcations_df.head()"
   ]
  },
  {
   "cell_type": "markdown",
   "id": "3b013c76",
   "metadata": {},
   "source": [
    "### There is no null values in transcations "
   ]
  },
  {
   "cell_type": "code",
   "execution_count": null,
   "id": "30d16db6",
   "metadata": {},
   "outputs": [],
   "source": [
    "transcations_df['t_dat']=pd.to_datetime(transcations_df[\"t_dat\"])"
   ]
  },
  {
   "cell_type": "code",
   "execution_count": null,
   "id": "834d7c98",
   "metadata": {},
   "outputs": [],
   "source": [
    "transcations_df.tail()"
   ]
  },
  {
   "cell_type": "code",
   "execution_count": null,
   "id": "46c6452d",
   "metadata": {},
   "outputs": [],
   "source": [
    "transcations_df.shape"
   ]
  },
  {
   "cell_type": "markdown",
   "id": "215d837f",
   "metadata": {},
   "source": [
    "### Here i have selected only the transcations after the year 2020"
   ]
  },
  {
   "cell_type": "code",
   "execution_count": null,
   "id": "95506ee3",
   "metadata": {},
   "outputs": [],
   "source": [
    "transcations_df=transcations_df[transcations_df['t_dat']>'2020-01-01'].copy()\n",
    "transcations_df.shape"
   ]
  },
  {
   "cell_type": "code",
   "execution_count": null,
   "id": "31fd034f",
   "metadata": {},
   "outputs": [],
   "source": [
    "transcations_df.head()"
   ]
  },
  {
   "cell_type": "code",
   "execution_count": null,
   "id": "7d37db23",
   "metadata": {},
   "outputs": [],
   "source": [
    "inner_merged=pd.merge(transcations_df,articles_df)#inner merge "
   ]
  },
  {
   "cell_type": "code",
   "execution_count": null,
   "id": "5e856b04",
   "metadata": {},
   "outputs": [],
   "source": [
    "inner_merged.shape"
   ]
  },
  {
   "cell_type": "code",
   "execution_count": null,
   "id": "67d5aa6b",
   "metadata": {},
   "outputs": [],
   "source": [
    "inner_merged.head()"
   ]
  },
  {
   "cell_type": "code",
   "execution_count": null,
   "id": "b90c0137",
   "metadata": {},
   "outputs": [],
   "source": [
    "final_merged=pd.merge(inner_merged,customers_df)"
   ]
  },
  {
   "cell_type": "code",
   "execution_count": null,
   "id": "bc6aad54",
   "metadata": {},
   "outputs": [],
   "source": [
    "final_merged.shape"
   ]
  },
  {
   "cell_type": "code",
   "execution_count": null,
   "id": "57128369",
   "metadata": {},
   "outputs": [],
   "source": [
    "final_merged.head()"
   ]
  },
  {
   "cell_type": "markdown",
   "id": "a61a0e13",
   "metadata": {},
   "source": [
    "### We dont need article_id and customer_id anymore so we will be dropping that too"
   ]
  },
  {
   "cell_type": "code",
   "execution_count": null,
   "id": "a52f7f83",
   "metadata": {},
   "outputs": [],
   "source": [
    "final_merged.drop(['customer_id','article_id'],axis=1,inplace=True)"
   ]
  },
  {
   "cell_type": "code",
   "execution_count": null,
   "id": "665edc1e",
   "metadata": {},
   "outputs": [],
   "source": [
    "int_cols=[]\n",
    "total_columms=final_merged.columns\n",
    "for col in total_columms:\n",
    "    if col not in label_cols:\n",
    "        int_cols.append(col)"
   ]
  },
  {
   "cell_type": "code",
   "execution_count": null,
   "id": "699e55e2",
   "metadata": {},
   "outputs": [],
   "source": [
    "final_merged[int_cols]"
   ]
  },
  {
   "cell_type": "code",
   "execution_count": null,
   "id": "b3a23a02",
   "metadata": {},
   "outputs": [],
   "source": [
    "final_merged.columns.intersection(label_cols)"
   ]
  },
  {
   "cell_type": "code",
   "execution_count": null,
   "id": "cfd309eb",
   "metadata": {},
   "outputs": [],
   "source": [
    "final_merged.to_csv('cleaned_h_m_dataset',encoding='utf-8',index=False)"
   ]
  },
  {
   "cell_type": "code",
   "execution_count": null,
   "id": "3b47e0a0",
   "metadata": {},
   "outputs": [],
   "source": [
    "final_merged=pd.read_csv(r'cleaned_h_m_dataset')"
   ]
  },
  {
   "cell_type": "code",
   "execution_count": null,
   "id": "daace972",
   "metadata": {},
   "outputs": [],
   "source": [
    "final_merged.head()"
   ]
  },
  {
   "cell_type": "code",
   "execution_count": null,
   "id": "b59c26f7",
   "metadata": {},
   "outputs": [],
   "source": [
    "final_merged.t_dat.max()"
   ]
  },
  {
   "cell_type": "code",
   "execution_count": null,
   "id": "0642d2b1",
   "metadata": {},
   "outputs": [],
   "source": [
    "df_train=final_merged[(final_merged['t_dat']>'2020-08-28') & (final_merged['t_dat']<'2020-09-20')].copy()\n",
    "df_test=final_merged[final_merged['t_dat']>='2020-09-20'].copy()"
   ]
  },
  {
   "cell_type": "code",
   "execution_count": null,
   "id": "8fda8a63",
   "metadata": {},
   "outputs": [],
   "source": [
    "df_train.t_dat.max()"
   ]
  },
  {
   "cell_type": "code",
   "execution_count": null,
   "id": "bfa20c46",
   "metadata": {},
   "outputs": [],
   "source": [
    "df_train.drop(['t_dat'],axis=1,inplace=True)\n",
    "df_test.drop(['t_dat'],axis=1,inplace=True)"
   ]
  },
  {
   "cell_type": "code",
   "execution_count": null,
   "id": "9f456139",
   "metadata": {},
   "outputs": [],
   "source": [
    "cols=df_train.columns"
   ]
  },
  {
   "cell_type": "code",
   "execution_count": null,
   "id": "d9bcaf04",
   "metadata": {},
   "outputs": [],
   "source": [
    "df_product_code_train=df_train.copy()\n",
    "scaler=MinMaxScaler()\n",
    "df_train=pd.DataFrame(scaler.fit_transform(df_train),columns=cols)\n",
    "df_test=pd.DataFrame(scaler.transform(df_test),columns=cols)\n",
    "scaler_pred=MinMaxScaler()\n",
    "df_product_code=pd.DataFrame(scaler_pred.fit_transform(df_product_code_train.product_code.values.reshape(-1,1)))"
   ]
  },
  {
   "cell_type": "code",
   "execution_count": null,
   "id": "55859ec5",
   "metadata": {},
   "outputs": [],
   "source": [
    "y_train=df_train['product_code'].tolist()\n",
    "y_test=df_test['product_code'].tolist()\n",
    "df_train.drop(['product_code'],axis=1,inplace=True)\n",
    "df_test.drop(['product_code'],axis=1,inplace=True)\n",
    "x_train=df_train.to_numpy().tolist()\n",
    "x_test=df_test.to_numpy().tolist()"
   ]
  },
  {
   "cell_type": "code",
   "execution_count": null,
   "id": "ac1fc465",
   "metadata": {},
   "outputs": [],
   "source": [
    "train_generator = TimeseriesGenerator(data=x_train, targets=y_train, length=17)\n",
    "test_generator = TimeseriesGenerator(data=x_test, targets=y_test, length=17)"
   ]
  },
  {
   "cell_type": "code",
   "execution_count": null,
   "id": "8a48f832",
   "metadata": {},
   "outputs": [],
   "source": [
    "keras.backend.clear_session()\n",
    "np.random.seed(42)\n",
    "tf.random.set_seed(42)\n",
    "model = keras.models.Sequential([\n",
    "    keras.layers.LSTM(512, input_shape = (17, 1), dropout=0.2, return_sequences=True,kernel_initializer='he_normal'),\n",
    "    keras.layers.LSTM(512, dropout=0.2, return_sequences=True,kernel_initializer='he_normal'),\n",
    "    keras.layers.LSTM(512, dropout=0.2, return_sequences=True,kernel_initializer='he_normal'),\n",
    "    keras.layers.LSTM(512, dropout=0.2, return_sequences=True,kernel_initializer='he_normal'),\n",
    "    keras.layers.LSTM(512, dropout=0.2, return_sequences=True,kernel_initializer='he_normal'),\n",
    "    keras.layers.Dense(1)\n",
    "])"
   ]
  },
  {
   "cell_type": "code",
   "execution_count": null,
   "id": "f684958a",
   "metadata": {},
   "outputs": [],
   "source": [
    "adam_optimizer = tf.keras.optimizers.Adam()\n",
    "model.compile(optimizer=adam_optimizer, loss = 'mean_squared_error')\n",
    "history = model.fit(train_generator, validation_data = test_generator, epochs = 10,batch_size=32)"
   ]
  },
  {
   "cell_type": "code",
   "execution_count": null,
   "id": "7289ba89",
   "metadata": {},
   "outputs": [],
   "source": [
    "predictions = model.predict(test_generator)"
   ]
  },
  {
   "cell_type": "code",
   "execution_count": null,
   "id": "d639be66",
   "metadata": {},
   "outputs": [],
   "source": [
    "predictions"
   ]
  },
  {
   "cell_type": "code",
   "execution_count": null,
   "id": "6b8002e2",
   "metadata": {},
   "outputs": [],
   "source": [
    "y_test"
   ]
  },
  {
   "cell_type": "code",
   "execution_count": null,
   "id": "2c07daa6",
   "metadata": {},
   "outputs": [],
   "source": [
    "from sklearn.metrics import mean_squared_error\n",
    "# print(mean_squared_error(predictions,y_test))\n"
   ]
  },
  {
   "cell_type": "code",
   "execution_count": null,
   "id": "c3ea08d0",
   "metadata": {},
   "outputs": [],
   "source": []
  }
 ],
 "metadata": {
  "kernelspec": {
   "display_name": "pacmanenv",
   "language": "python",
   "name": "pacmanenv"
  },
  "language_info": {
   "codemirror_mode": {
    "name": "ipython",
    "version": 3
   },
   "file_extension": ".py",
   "mimetype": "text/x-python",
   "name": "python",
   "nbconvert_exporter": "python",
   "pygments_lexer": "ipython3",
   "version": "3.8.7"
  }
 },
 "nbformat": 4,
 "nbformat_minor": 5
}
